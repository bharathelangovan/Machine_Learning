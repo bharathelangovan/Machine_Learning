{
 "cells": [
  {
   "cell_type": "code",
   "execution_count": 48,
   "metadata": {
    "collapsed": false
   },
   "outputs": [],
   "source": [
    "import io\n",
    "import numpy as np\n",
    "import matplotlib.pyplot as plt\n",
    "from copy import deepcopy\n",
    "from sklearn.linear_model import LinearRegression\n",
    "from sklearn.preprocessing import PolynomialFeatures\n",
    "from sklearn.cross_validation import KFold\n",
    "%matplotlib inline"
   ]
  },
  {
   "cell_type": "markdown",
   "metadata": {},
   "source": [
    "1.a. Read Data from the file"
   ]
  },
  {
   "cell_type": "code",
   "execution_count": 49,
   "metadata": {
    "collapsed": false
   },
   "outputs": [],
   "source": [
    "filename = \"svar-set4.dat.txt\"\n",
    "r = io.open(filename, encoding='utf8').readlines()\n",
    "X = []\n",
    "Y = []\n",
    "for i in r:\n",
    "    if i.split()[0] != '#':\n",
    "        tmp = i.split()\n",
    "        X.append([float(tmp[o]) for o in range(len(tmp)-1)])\n",
    "        Y.append([float(tmp[-1])])"
   ]
  },
  {
   "cell_type": "markdown",
   "metadata": {},
   "source": [
    "# 1.a. Plotting the Data"
   ]
  },
  {
   "cell_type": "code",
   "execution_count": 50,
   "metadata": {
    "collapsed": false
   },
   "outputs": [],
   "source": [
    "def graph_plot(x,y,x_name,y_name,style):\n",
    "    plt.plot(x,y,style)\n",
    "    plt.xlabel(x_name)\n",
    "    plt.ylabel(y_name)"
   ]
  },
  {
   "cell_type": "code",
   "execution_count": 51,
   "metadata": {
    "collapsed": false
   },
   "outputs": [
    {
     "data": {
      "image/png": "[encoded data removed]",
      "text/plain": [
       "<matplotlib.figure.Figure at 0x7da7d30>"
      ]
     },
     "metadata": {},
     "output_type": "display_data"
    }
   ],
   "source": [
    "graph_plot(X,Y,\"X\",\"Y\",'o')"
   ]
  },
  {
   "cell_type": "markdown",
   "metadata": {},
   "source": [
    "# 1.b. Fit Linear Model"
   ]
  },
  {
   "cell_type": "markdown",
   "metadata": {},
   "source": [
    "#### Function to Create Data Matrix"
   ]
  },
  {
   "cell_type": "code",
   "execution_count": 52,
   "metadata": {
    "collapsed": true
   },
   "outputs": [],
   "source": [
    "def create_data(data):\n",
    "    z = data\n",
    "    for j in z:\n",
    "        j.insert(0,1)   \n",
    "    return z"
   ]
  },
  {
   "cell_type": "markdown",
   "metadata": {},
   "source": [
    "#### Function to Create Polynomial Data Martrix of degree n"
   ]
  },
  {
   "cell_type": "code",
   "execution_count": 53,
   "metadata": {
    "collapsed": false
   },
   "outputs": [],
   "source": [
    "def create_polynomial(data,degree):\n",
    "    for i in range(2,degree+1):\n",
    "        for j in data:\n",
    "            j.insert(i,j[1]**i)\n",
    "    return data"
   ]
  },
  {
   "cell_type": "markdown",
   "metadata": {},
   "source": [
    "#### Function to find theta - Equivalent to fit function in Python"
   ]
  },
  {
   "cell_type": "code",
   "execution_count": 54,
   "metadata": {
    "collapsed": true
   },
   "outputs": [],
   "source": [
    "def find_theta(Data,Labels):\n",
    "    return np.linalg.solve((np.dot(np.array(Data).transpose(),np.array(Data))),\n",
    "                           (np.dot(np.array(Data).transpose(),np.array(Labels))))"
   ]
  },
  {
   "cell_type": "code",
   "execution_count": 55,
   "metadata": {
    "collapsed": true
   },
   "outputs": [],
   "source": [
    "def find_theta_linear(Data,Labels):\n",
    "    x = []\n",
    "    y = []\n",
    "    x = [[len(Data),sum([i[0] for i in Data])],\n",
    "        [sum([i[0] for i in Data]), sum([i[0]**2 for i in Data])]]\n",
    "    y = [[sum([i[0] for i in Labels])], [sum([i[0]*j[0] for i,j in zip(Data,Labels)])]]\n",
    "    return np.linalg.solve(np.array(x),np.array(y))"
   ]
  },
  {
   "cell_type": "code",
   "execution_count": 56,
   "metadata": {
    "collapsed": false
   },
   "outputs": [
    {
     "name": "stdout",
     "output_type": "stream",
     "text": [
      "theta [[ 0.99777523]\n",
      " [-0.00537298]]\n"
     ]
    }
   ],
   "source": [
    "print \"theta\", find_theta_linear(X,Y)"
   ]
  },
  {
   "cell_type": "markdown",
   "metadata": {},
   "source": [
    "#### Function to Predict unknown - Equivalent to predict function in Python"
   ]
  },
  {
   "cell_type": "code",
   "execution_count": 57,
   "metadata": {
    "collapsed": false
   },
   "outputs": [],
   "source": [
    "def predict(t,z):\n",
    "    predictions = []\n",
    "    for i in z:\n",
    "        predictions.append(np.dot(t.transpose(),np.array(i)))\n",
    "    return predictions"
   ]
  },
  {
   "cell_type": "markdown",
   "metadata": {},
   "source": [
    "#### Function to find Mean Square Error"
   ]
  },
  {
   "cell_type": "code",
   "execution_count": 58,
   "metadata": {
    "collapsed": false
   },
   "outputs": [],
   "source": [
    "def mean_squrae_error(pred,y):\n",
    "    return sum([(i-j)**2 for i,j in zip(pred,y)])/len(pred)\n",
    "    "
   ]
  },
  {
   "cell_type": "markdown",
   "metadata": {},
   "source": [
    "### Function to create n equals folds of index for cross validation"
   ]
  },
  {
   "cell_type": "code",
   "execution_count": 59,
   "metadata": {
    "collapsed": true
   },
   "outputs": [],
   "source": [
    "def fold_indices(size, folds):\n",
    "    block_list = [size//folds for i in range(folds)]\n",
    "    if size%folds != 0:\n",
    "        for i in range(size%folds):\n",
    "            block_list[i] += 1\n",
    "    current = 0\n",
    "    indices = []\n",
    "    for x in block_list:\n",
    "        m,n = current, current + x\n",
    "        indices.append((m,n))\n",
    "        current = n\n",
    "    return indices"
   ]
  },
  {
   "cell_type": "markdown",
   "metadata": {},
   "source": [
    "### Cross Validation for n folds using manualy created fit and predict functions; Finding the Training Error and Testing Error"
   ]
  },
  {
   "cell_type": "code",
   "execution_count": 60,
   "metadata": {
    "collapsed": false
   },
   "outputs": [],
   "source": [
    "def cross_validation(data,labels,folds):\n",
    "    k_index = fold_indices(len(labels), folds)\n",
    "    Theta_list = []\n",
    "    training_MSE_list =[]\n",
    "    testing_MSE_list = []\n",
    "    for i in k_index:\n",
    "        Z_test = data[i[0]:i[1]]\n",
    "        Y_test = labels[i[0]:i[1]]\n",
    "        Z_train = []\n",
    "        Y_train = []\n",
    "        for j in k_index:\n",
    "            if i != j:\n",
    "                Z_train = Z_train + data[j[0]:j[1]]\n",
    "                Y_train = Y_train + labels[j[0]:j[1]]\n",
    "        Theta  = find_theta(Z_train,Y_train)\n",
    "        training_MSE = mean_squrae_error(predict(Theta,Z_train), Y_train)\n",
    "        pred = predict(Theta,Z_test)\n",
    "        MSE = mean_squrae_error(pred, Y_test)\n",
    "        Theta_list.append(Theta)\n",
    "        testing_MSE_list.append(MSE)\n",
    "        training_MSE_list.append(training_MSE)\n",
    "    return Theta_list, testing_MSE_list, training_MSE_list"
   ]
  },
  {
   "cell_type": "code",
   "execution_count": 61,
   "metadata": {
    "collapsed": false
   },
   "outputs": [
    {
     "name": "stdout",
     "output_type": "stream",
     "text": [
      "[[1, 3.969849246231156], [1, 5.778894472361809], [1, 6.78391959798995], [1, 9.49748743718593], [1, 3.467336683417086]] [[1.008692872827001], [0.9613524634187072], [2.044366731847647], [0.19929691650573], [2.511682986077576]]\n"
     ]
    }
   ],
   "source": [
    "Z= deepcopy(X)\n",
    "Z = create_data(Z)\n",
    "print Z[0:5],Y[0:5]"
   ]
  },
  {
   "cell_type": "markdown",
   "metadata": {},
   "source": [
    "### The Training and Testing Error for Linear Model"
   ]
  },
  {
   "cell_type": "code",
   "execution_count": 62,
   "metadata": {
    "collapsed": false
   },
   "outputs": [
    {
     "name": "stdout",
     "output_type": "stream",
     "text": [
      "The theta, Training Errot and Testing Error for Linear Model for 10 folds\n",
      "Theta\t\tTraining Error\tTesting Error\n",
      "0.006451\t1.209249\t1.137335\n",
      "-0.012427\t1.108694\t2.036199\n",
      "-0.016527\t1.264240\t0.641709\n",
      "-0.000805\t1.216254\t1.063796\n",
      "-0.007211\t1.245234\t0.803337\n",
      "-0.008059\t1.200808\t1.205084\n",
      "0.000858\t1.211565\t1.112232\n",
      "-0.001026\t1.199433\t1.215086\n",
      "-0.012328\t1.203398\t1.183639\n",
      "-0.003151\t1.143150\t1.724455\n",
      "MSE Train Error Mean\tMSE Test Error Mean\n",
      "1.20020250224 \t\t1.21228704771\n"
     ]
    }
   ],
   "source": [
    "thetas,test_mse,training_mse = cross_validation(Z,Y,10)\n",
    "print(\"The theta, Training Errot and Testing Error for Linear Model for 10 folds\")\n",
    "print(\"Theta\\t\\tTraining Error\\tTesting Error\")\n",
    "for i in range(len(training_mse)):\n",
    "    print \"%f\\t%f\\t%f\" %(thetas[i][1],training_mse[i],test_mse[i])\n",
    "print \"MSE Train Error Mean\\tMSE Test Error Mean\"\n",
    "print np.mean(training_mse),\"\\t\\t\",np.mean(test_mse)"
   ]
  },
  {
   "cell_type": "code",
   "execution_count": 63,
   "metadata": {
    "collapsed": false
   },
   "outputs": [
    {
     "data": {
      "image/png": "[encoded data removed]",
      "text/plain": [
       "<matplotlib.figure.Figure at 0x8101dd0>"
      ]
     },
     "metadata": {},
     "output_type": "display_data"
    }
   ],
   "source": [
    "Y_predicted = predict(find_theta(Z,Y),Z)\n",
    "#graph_plot(X,Y_predicted,\"X\",\"Y\",'k-')\n",
    "plt.plot(X,Y_predicted,'ro')\n",
    "plt.plot(X,Y,'bo')\n",
    "plt.xlabel(\"X\")\n",
    "plt.ylabel(\"Y\")\n",
    "plt.show()"
   ]
  },
  {
   "cell_type": "markdown",
   "metadata": {},
   "source": [
    "# 1.C. Compare results by Python Made functions"
   ]
  },
  {
   "cell_type": "markdown",
   "metadata": {},
   "source": [
    "### Cross Validation for n folds using Python Linear Regression fit and predict functions; Finding the Training Error and Testing Error"
   ]
  },
  {
   "cell_type": "code",
   "execution_count": 64,
   "metadata": {
    "collapsed": false
   },
   "outputs": [],
   "source": [
    "def cross_validation_python(data,labels,folds):\n",
    "    k_index = fold_indices(len(labels), folds)\n",
    "    x = LinearRegression()\n",
    "    Theta_list = []\n",
    "    training_MSE_list =[]\n",
    "    testing_MSE_list = []\n",
    "    for i in k_index:\n",
    "        Z_test = data[i[0]:i[1]]\n",
    "        Y_test = labels[i[0]:i[1]]\n",
    "        Z_train = []\n",
    "        Y_train = []\n",
    "        for j in k_index:\n",
    "            if i != j:\n",
    "                Z_train = Z_train + data[j[0]:j[1]]\n",
    "                Y_train = Y_train + labels[j[0]:j[1]]\n",
    "        x.fit(Z_train,Y_train)\n",
    "        Theta_list.append(x.coef_)\n",
    "        training_MSE = mean_squrae_error(x.predict(Z_train), Y_train)\n",
    "        pred = x.predict(Z_test)\n",
    "        MSE = mean_squrae_error(pred, Y_test)\n",
    "        testing_MSE_list.append(MSE)\n",
    "        training_MSE_list.append(training_MSE)\n",
    "    return Theta_list, testing_MSE_list, training_MSE_list"
   ]
  },
  {
   "cell_type": "code",
   "execution_count": 65,
   "metadata": {
    "collapsed": false
   },
   "outputs": [
    {
     "name": "stdout",
     "output_type": "stream",
     "text": [
      "The theta, Training Errot and Testing Error for Linear Model for 10 folds\n",
      "Theta\t\tTraining Error\tTesting Error\n",
      "0.006451\t1.209249\t1.137335\n",
      "-0.012427\t1.108694\t2.036199\n",
      "-0.016527\t1.264240\t0.641709\n",
      "-0.000805\t1.216254\t1.063796\n",
      "-0.007211\t1.245234\t0.803337\n",
      "-0.008059\t1.200808\t1.205084\n",
      "0.000858\t1.211565\t1.112232\n",
      "-0.001026\t1.199433\t1.215086\n",
      "-0.012328\t1.203398\t1.183639\n",
      "-0.003151\t1.143150\t1.724455\n",
      "Train Error Mean\tTest Error Mean\n",
      "1.20020250224 \t\t1.21228704771\n"
     ]
    }
   ],
   "source": [
    "thetas_py,test_mse_py,training_mse_py = cross_validation_python(Z,Y,10)\n",
    "print(\"The theta, Training Errot and Testing Error for Linear Model for 10 folds\")\n",
    "print(\"Theta\\t\\tTraining Error\\tTesting Error\")\n",
    "for i in range(len(training_mse)):\n",
    "    print \"%f\\t%f\\t%f\" %(thetas_py[i][0][1],training_mse_py[i][0],test_mse_py[i][0])\n",
    "print \"Train Error Mean\\tTest Error Mean\"\n",
    "print np.mean(training_mse_py),\"\\t\\t\",np.mean(test_mse_py)"
   ]
  },
  {
   "cell_type": "markdown",
   "metadata": {},
   "source": [
    "### Polynomial models on different subset of data"
   ]
  },
  {
   "cell_type": "code",
   "execution_count": 66,
   "metadata": {
    "collapsed": false
   },
   "outputs": [],
   "source": [
    "Zpoly = create_polynomial(deepcopy(Z),2)\n",
    "Zpoly2 = deepcopy(Z[:50])\n",
    "Zpoly3 = deepcopy(Z[50:100])\n",
    "Zpoly4 = deepcopy(Z[100:150])\n",
    "Zpoly5 = deepcopy(Z[150:])\n",
    "Zpoly2 = create_polynomial(Zpoly2,2)\n",
    "Zpoly3 = create_polynomial(Zpoly3,3)\n",
    "Zpoly4 = create_polynomial(Zpoly4,4)\n",
    "Zpoly5 = create_polynomial(Zpoly5,5)"
   ]
  },
  {
   "cell_type": "code",
   "execution_count": 67,
   "metadata": {
    "collapsed": false
   },
   "outputs": [
    {
     "name": "stdout",
     "output_type": "stream",
     "text": [
      "The theta, Training Errot and Testing Error for Polynomial Model with degree 2 for 10 folds\n",
      "Theta\t\t\tTraining Error\tTesting Error\n",
      "[[ 0.06414225]\n",
      " [ 0.61204143]\n",
      " [-0.06334695]] \t1.169246\t\t0.449485\n",
      "[[ 0.05540365]\n",
      " [ 0.6381406 ]\n",
      " [-0.06625218]] \t1.205255\t\t0.125646\n",
      "[[-0.03615247]\n",
      " [ 0.64076165]\n",
      " [-0.06466117]] \t0.946527\t\t2.476740\n",
      "[[ 0.03719172]\n",
      " [ 0.61220159]\n",
      " [-0.06310654]] \t1.196349\t\t0.216129\n",
      "[[ 0.14006636]\n",
      " [ 0.65244171]\n",
      " [-0.06874571]] \t1.100221\t\t1.160447\n",
      "[[ 0.2058848 ]\n",
      " [ 0.53987236]\n",
      " [-0.05670055]] \t1.000890\t\t2.001801\n",
      "[[ 0.0444531 ]\n",
      " [ 0.58341564]\n",
      " [-0.05929906]] \t0.945012\t\t2.510818\n",
      "[[ 0.11689424]\n",
      " [ 0.60526209]\n",
      " [-0.06291227]] \t1.085675\t\t1.202856\n",
      "[[ 0.04890627]\n",
      " [ 0.63175781]\n",
      " [-0.06537339]] \t1.160549\t\t0.525199\n",
      "[[ 0.02570505]\n",
      " [ 0.68029193]\n",
      " [-0.07066691]] \t1.132374\t\t0.820087\n",
      "Train Error Mean\tTest Error Mean\n",
      "1.09420984139 \t\t1.14892091518\n"
     ]
    }
   ],
   "source": [
    "thetas_Zpoly2,test_mse_Zploy2,training_mse_Zpoly2 = cross_validation(Zpoly2,Y[:50],10)\n",
    "print(\"The theta, Training Errot and Testing Error for Polynomial Model with degree 2 for 10 folds\")\n",
    "print(\"Theta\\t\\t\\tTraining Error\\tTesting Error\")\n",
    "for i in range(len(training_mse)):\n",
    "    print thetas_Zpoly2[i] ,\"\\t%f\\t\\t%f\" %(training_mse_Zpoly2[i][0],test_mse_Zploy2[i][0])\n",
    "print \"Train Error Mean\\tTest Error Mean\"\n",
    "print np.mean(training_mse_Zpoly2),\"\\t\\t\",np.mean(test_mse_Zploy2)"
   ]
  },
  {
   "cell_type": "code",
   "execution_count": 68,
   "metadata": {
    "collapsed": false
   },
   "outputs": [
    {
     "name": "stdout",
     "output_type": "stream",
     "text": [
      "The theta, Training Errot and Testing Error for Linear Model for 10 folds\n",
      "Theta\t\t\tTraining Error\tTesting Error\n",
      "[[-0.14166505]\n",
      " [ 0.43341213]\n",
      " [-0.0074951 ]\n",
      " [-0.00376824]] \t0.657453\t\t0.535293\n",
      "[[-0.1200791 ]\n",
      " [ 0.4426595 ]\n",
      " [-0.01380777]\n",
      " [-0.00327784]] \t0.637728\t\t0.724535\n",
      "[[ 0.18970454]\n",
      " [ 0.00766145]\n",
      " [ 0.08398531]\n",
      " [-0.00904764]] \t0.629979\t\t0.841216\n",
      "[[ 0.02347855]\n",
      " [ 0.14274644]\n",
      " [ 0.05014762]\n",
      " [-0.00654642]] \t0.547902\t\t1.636250\n",
      "[[-0.12827797]\n",
      " [ 0.40945951]\n",
      " [-0.00196969]\n",
      " [-0.00412516]] \t0.647148\t\t0.617013\n",
      "[[-0.13013208]\n",
      " [ 0.37880222]\n",
      " [ 0.00626051]\n",
      " [-0.0045988 ]] \t0.676621\t\t0.334616\n",
      "[[-0.13988257]\n",
      " [ 0.39508877]\n",
      " [ 0.00404986]\n",
      " [-0.00451482]] \t0.676814\t\t0.350828\n",
      "[[-0.04052488]\n",
      " [ 0.27821252]\n",
      " [ 0.02281322]\n",
      " [-0.00529708]] \t0.695905\t\t0.154977\n",
      "[[ 0.03678144]\n",
      " [-0.02676109]\n",
      " [ 0.10655884]\n",
      " [-0.01091056]] \t0.534814\t\t1.829551\n",
      "[[-0.14927744]\n",
      " [ 0.4469463 ]\n",
      " [-0.0118672 ]\n",
      " [-0.00345627]] \t0.638095\t\t0.710145\n",
      "Train Error Mean\tTest Error Mean\n",
      "0.634245948089 \t\t0.773442475168\n"
     ]
    }
   ],
   "source": [
    "thetas_Zpoly3,test_mse_Zploy3,training_mse_Zpoly3 = cross_validation(Zpoly3,Y[50:100],10)\n",
    "print(\"The theta, Training Errot and Testing Error for Linear Model for 10 folds\")\n",
    "print(\"Theta\\t\\t\\tTraining Error\\tTesting Error\")\n",
    "for i in range(len(training_mse)):\n",
    "    print thetas_Zpoly3[i] ,\"\\t%f\\t\\t%f\" %(training_mse_Zpoly3[i][0],test_mse_Zploy3[i][0])\n",
    "print \"Train Error Mean\\tTest Error Mean\"\n",
    "print np.mean(training_mse_Zpoly3),\"\\t\\t\",np.mean(test_mse_Zploy3)"
   ]
  },
  {
   "cell_type": "code",
   "execution_count": 69,
   "metadata": {
    "collapsed": false
   },
   "outputs": [
    {
     "name": "stdout",
     "output_type": "stream",
     "text": [
      "The theta, Training Errot and Testing Error for Linear Model for 10 folds\n",
      "Theta\t\t\tTraining Error\tTesting Error\n",
      "[[-1.48305622]\n",
      " [ 2.76586353]\n",
      " [-0.92830912]\n",
      " [ 0.12594938]\n",
      " [-0.00601457]] \t0.618143\t\t1.279163\n",
      "[[-3.14141629]\n",
      " [ 4.79461124]\n",
      " [-1.55508788]\n",
      " [ 0.20052459]\n",
      " [-0.00908714]] \t0.558981\t\t2.494164\n",
      "[[-1.44451565]\n",
      " [ 2.71165886]\n",
      " [-0.92715101]\n",
      " [ 0.12930697]\n",
      " [-0.00634146]] \t0.662379\t\t0.915992\n",
      "[[-1.65126461]\n",
      " [ 3.09912885]\n",
      " [-1.03787305]\n",
      " [ 0.1394593 ]\n",
      " [-0.00658308]] \t0.728536\t\t0.262774\n",
      "[[-1.64934606]\n",
      " [ 2.93928053]\n",
      " [-0.9516502 ]\n",
      " [ 0.12467899]\n",
      " [-0.00580146]] \t0.725219\t\t0.280781\n",
      "[[-1.71940498]\n",
      " [ 3.02046982]\n",
      " [-0.963776  ]\n",
      " [ 0.12593625]\n",
      " [-0.00590499]] \t0.684018\t\t0.702583\n",
      "[[-1.15305162]\n",
      " [ 2.0253624 ]\n",
      " [-0.66362304]\n",
      " [ 0.09302575]\n",
      " [-0.00465478]] \t0.527329\t\t2.411185\n",
      "[[-1.63992255]\n",
      " [ 3.02488747]\n",
      " [-0.98962392]\n",
      " [ 0.13039346]\n",
      " [-0.00608598]] \t0.717023\t\t0.355825\n",
      "[[-1.63732157]\n",
      " [ 2.9254465 ]\n",
      " [-0.96360889]\n",
      " [ 0.12913136]\n",
      " [-0.00612407]] \t0.749015\t\t0.054552\n",
      "[[-1.5710933 ]\n",
      " [ 2.95663455]\n",
      " [-0.96649859]\n",
      " [ 0.1284077 ]\n",
      " [-0.00606571]] \t0.708956\t\t0.453856\n",
      "Train Error Mean\tTest Error Mean\n",
      "0.667960023482 \t\t0.921087472516\n"
     ]
    }
   ],
   "source": [
    "thetas_Zpoly4,test_mse_Zploy4,training_mse_Zpoly4 = cross_validation(Zpoly4,Y[100:150],10)\n",
    "print(\"The theta, Training Errot and Testing Error for Linear Model for 10 folds\")\n",
    "print(\"Theta\\t\\t\\tTraining Error\\tTesting Error\")\n",
    "for i in range(len(training_mse)):\n",
    "    print thetas_Zpoly4[i] ,\"\\t%f\\t\\t%f\" %(training_mse_Zpoly4[i][0],test_mse_Zploy4[i][0])\n",
    "print \"Train Error Mean\\tTest Error Mean\"\n",
    "print np.mean(training_mse_Zpoly4),\"\\t\\t\",np.mean(test_mse_Zploy4)"
   ]
  },
  {
   "cell_type": "code",
   "execution_count": 70,
   "metadata": {
    "collapsed": false
   },
   "outputs": [
    {
     "data": {
      "image/png": "[encoded data removed]",
      "text/plain": [
       "<matplotlib.figure.Figure at 0x7da7f70>"
      ]
     },
     "metadata": {},
     "output_type": "display_data"
    }
   ],
   "source": [
    "Y_predicted_poly2 = predict(find_theta(Zpoly,Y),Zpoly)\n",
    "plt.plot(X,Y_predicted_poly2,'rx')\n",
    "plt.plot(X,Y,'bo')\n",
    "plt.xlabel(\"X\")\n",
    "plt.ylabel(\"Y\")\n",
    "plt.show()"
   ]
  },
  {
   "cell_type": "code",
   "execution_count": 71,
   "metadata": {
    "collapsed": false
   },
   "outputs": [
    {
     "name": "stdout",
     "output_type": "stream",
     "text": [
      "The theta, Training Errot and Testing Error for Linear Model for 10 folds\n",
      "Theta\t\t\tTraining Error\tTesting Error\n",
      "[[-0.50699986]\n",
      " [ 0.03287504]\n",
      " [ 1.09854147]\n",
      " [-0.41265829]\n",
      " [ 0.05312594]\n",
      " [-0.00229245]] \t0.971835\t\t0.178505\n",
      "[[-0.30622861]\n",
      " [-0.34236712]\n",
      " [ 1.29609917]\n",
      " [-0.45437888]\n",
      " [ 0.05700906]\n",
      " [-0.0024283 ]] \t0.814465\t\t1.559265\n",
      "[[-0.52460483]\n",
      " [ 0.34937235]\n",
      " [ 0.88371094]\n",
      " [-0.36233325]\n",
      " [ 0.04835013]\n",
      " [-0.00213788]] \t0.891022\t\t0.863791\n",
      "[[-0.26250726]\n",
      " [-0.5341544 ]\n",
      " [ 1.46234062]\n",
      " [-0.50225362]\n",
      " [ 0.06268474]\n",
      " [-0.00266545]] \t0.890998\t\t0.899886\n",
      "[[-1.40093562]\n",
      " [ 1.64994575]\n",
      " [ 0.28399191]\n",
      " [-0.24392944]\n",
      " [ 0.03771317]\n",
      " [-0.00177869]] \t0.915101\t\t0.912757\n",
      "[[-0.53310318]\n",
      " [ 0.44762675]\n",
      " [ 0.84551099]\n",
      " [-0.35924061]\n",
      " [ 0.04841759]\n",
      " [-0.00214678]] \t0.894595\t\t0.875235\n",
      "[[-0.16076471]\n",
      " [-0.80060724]\n",
      " [ 1.64975466]\n",
      " [-0.56651337]\n",
      " [ 0.07217294]\n",
      " [-0.00314635]] \t0.766311\t\t2.648279\n",
      "[[-0.46040124]\n",
      " [ 0.29802824]\n",
      " [ 0.93524887]\n",
      " [-0.37808536]\n",
      " [ 0.05005038]\n",
      " [-0.002197  ]] \t0.913261\t\t0.694511\n",
      "[[-0.44225057]\n",
      " [ 0.13797469]\n",
      " [ 0.97350595]\n",
      " [-0.37465844]\n",
      " [ 0.04880217]\n",
      " [-0.00212903]] \t0.870819\t\t1.041350\n",
      "[[-0.36380651]\n",
      " [-0.30453943]\n",
      " [ 1.28474931]\n",
      " [-0.45091403]\n",
      " [ 0.0564559 ]\n",
      " [-0.00239926]] \t0.859285\t\t1.169453\n",
      "Train Error Mean\tTest Error Mean\n",
      "0.878769046682 \t\t1.08430321188\n"
     ]
    }
   ],
   "source": [
    "thetas_Zpoly5,test_mse_Zploy5,training_mse_Zpoly5 = cross_validation(Zpoly5,Y[150:],10)\n",
    "print(\"The theta, Training Errot and Testing Error for Linear Model for 10 folds\")\n",
    "print(\"Theta\\t\\t\\tTraining Error\\tTesting Error\")\n",
    "for i in range(len(training_mse)):\n",
    "    print thetas_Zpoly5[i] ,\"\\t%f\\t\\t%f\" %(training_mse_Zpoly5[i][0],test_mse_Zploy5[i][0])\n",
    "print \"Train Error Mean\\tTest Error Mean\"\n",
    "print np.mean(training_mse_Zpoly5),\"\\t\\t\",np.mean(test_mse_Zploy5)"
   ]
  },
  {
   "cell_type": "code",
   "execution_count": 72,
   "metadata": {
    "collapsed": false
   },
   "outputs": [
    {
     "data": {
      "image/png": "[encoded data removed]",
      "text/plain": [
       "<matplotlib.figure.Figure at 0x7d9db30>"
      ]
     },
     "metadata": {},
     "output_type": "display_data"
    }
   ],
   "source": [
    "Zpoly_5 = create_polynomial(deepcopy(Z),5)\n",
    "Y_predicted_poly5 = predict(find_theta(Zpoly_5,Y),Zpoly_5)\n",
    "plt.plot(X,Y_predicted_poly5,'rx')\n",
    "plt.plot(X,Y,'bo')\n",
    "plt.xlabel(\"X\")\n",
    "plt.ylabel(\"Y\")\n",
    "plt.show()"
   ]
  },
  {
   "cell_type": "markdown",
   "metadata": {},
   "source": [
    "# 1.d Reduce the size of data and evaluate performance"
   ]
  },
  {
   "cell_type": "code",
   "execution_count": 73,
   "metadata": {
    "collapsed": false
   },
   "outputs": [],
   "source": [
    "test_size = int(0.1 *len(X))\n",
    "test_idx = len(Z) -test_size\n",
    "Z_new_test = Z[test_idx:]\n",
    "Y_new_test = Y[test_idx:]\n",
    "train_size = [90,75,50,25]\n",
    "Z_train_new = {}\n",
    "Y_train_new = {}\n",
    "for i in train_size:\n",
    "    train_idx = int((i*1.0/100)*len(Z))\n",
    "    Z_train_new[i] = Z[0:train_idx]\n",
    "    Y_train_new[i] = Y[0:train_idx]\n",
    "    "
   ]
  },
  {
   "cell_type": "code",
   "execution_count": 74,
   "metadata": {
    "collapsed": false
   },
   "outputs": [],
   "source": [
    "def analysis(train,knownl,test,unknownl):\n",
    "    predict_reduced = {}\n",
    "    MSE_reduced ={}\n",
    "    for i in train:\n",
    "        predict_reduced[i] = predict(find_theta(train[i],knownl[i]),test)\n",
    "        MSE_reduced[i] = mean_squrae_error(predict_reduced[i],unknownl)\n",
    "    return predict_reduced,MSE_reduced"
   ]
  },
  {
   "cell_type": "code",
   "execution_count": 75,
   "metadata": {
    "collapsed": false
   },
   "outputs": [],
   "source": [
    "new_predict,new_MSE = analysis(Z_train_new,Y_train_new,Z_new_test,Y_new_test)"
   ]
  },
  {
   "cell_type": "code",
   "execution_count": 76,
   "metadata": {
    "collapsed": false
   },
   "outputs": [
    {
     "name": "stdout",
     "output_type": "stream",
     "text": [
      "Mean error when the training data is some percentage of original data \n",
      "Percentage\tMean_Error\n",
      "25 \t\t1.70496717318\n",
      "90 \t\t1.72445473762\n",
      "75 \t\t1.74098476595\n",
      "50 \t\t1.74379150188\n"
     ]
    }
   ],
   "source": [
    "print \"Mean error when the training data is some percentage of original data \"\n",
    "print \"Percentage\\tMean_Error\"\n",
    "for i in new_MSE:\n",
    "    print i,\"\\t\\t\",np.mean(new_MSE[i])"
   ]
  }
 ],
 "metadata": {
  "kernelspec": {
   "display_name": "Python 2",
   "language": "python",
   "name": "python2"
  }
 },
 "nbformat": 4,
 "nbformat_minor": 0
}
